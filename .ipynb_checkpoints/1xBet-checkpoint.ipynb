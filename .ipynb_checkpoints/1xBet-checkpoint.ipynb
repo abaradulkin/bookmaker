{
 "cells": [
  {
   "cell_type": "code",
   "execution_count": 9,
   "metadata": {
    "collapsed": true
   },
   "outputs": [],
   "source": [
    "# start koef:\n",
    "k1 = 2.42\n",
    "k2 = 3.98\n",
    "k3 = 2.73"
   ]
  },
  {
   "cell_type": "code",
   "execution_count": 11,
   "metadata": {},
   "outputs": [
    {
     "name": "stdout",
     "output_type": "stream",
     "text": [
      "0.1 0.0608040201005 0.0886446886447 0.242 -0.00744870874519\n",
      "0.2 0.121608040201 0.177289377289 0.484 -0.0148974174904\n",
      "0.3 0.182412060302 0.265934065934 0.726 -0.0223461262356\n",
      "0.4 0.243216080402 0.354578754579 0.968 -0.0297948349808\n",
      "0.5 0.304020100503 0.443223443223 1.21 -0.037243543726\n",
      "0.6 0.364824120603 0.531868131868 1.452 -0.0446922524711\n",
      "0.7 0.425628140704 0.620512820513 1.694 -0.0521409612163\n",
      "0.8 0.486432160804 0.709157509158 1.936 -0.0595896699615\n",
      "0.9 0.547236180905 0.797802197802 2.178 -0.0670383787067\n"
     ]
    }
   ],
   "source": [
    "import numpy as np\n",
    "\n",
    "x1 = np.arange(0.01, 10, 0.01)\n",
    "x2 = []\n",
    "x3 = []\n",
    "for x in x1:\n",
    "    y1 = x * k1 / k2\n",
    "    z1 = x * k1 / k3\n",
    "    print x, y1, z1, x*k1, x*k1 - x - y1 - z1"
   ]
  },
  {
   "cell_type": "code",
   "execution_count": null,
   "metadata": {
    "collapsed": true
   },
   "outputs": [],
   "source": []
  },
  {
   "cell_type": "code",
   "execution_count": null,
   "metadata": {
    "collapsed": true
   },
   "outputs": [],
   "source": []
  }
 ],
 "metadata": {
  "kernelspec": {
   "display_name": "Python 2",
   "language": "python",
   "name": "python2"
  },
  "language_info": {
   "codemirror_mode": {
    "name": "ipython",
    "version": 2
   },
   "file_extension": ".py",
   "mimetype": "text/x-python",
   "name": "python",
   "nbconvert_exporter": "python",
   "pygments_lexer": "ipython2",
   "version": "2.7.14"
  }
 },
 "nbformat": 4,
 "nbformat_minor": 2
}
